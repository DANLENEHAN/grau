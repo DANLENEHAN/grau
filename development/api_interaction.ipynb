{
 "cells": [
  {
   "cell_type": "code",
   "execution_count": 6,
   "metadata": {},
   "outputs": [],
   "source": [
    "import requests"
   ]
  },
  {
   "cell_type": "code",
   "execution_count": 7,
   "metadata": {},
   "outputs": [
    {
     "data": {
      "text/plain": [
       "\"You've reached the resistance.\""
      ]
     },
     "execution_count": 7,
     "metadata": {},
     "output_type": "execute_result"
    }
   ],
   "source": [
    "BASE_URL = \"http://127.0.0.1:5000/\"\n",
    "requests.get(BASE_URL).text"
   ]
  },
  {
   "cell_type": "code",
   "execution_count": 8,
   "metadata": {},
   "outputs": [
    {
     "data": {
      "text/plain": [
       "'User created successfully'"
      ]
     },
     "execution_count": 8,
     "metadata": {},
     "output_type": "execute_result"
    }
   ],
   "source": [
    "res = requests.post(\n",
    "    BASE_URL + \"create_user\",\n",
    "    json={\n",
    "        \"age\": 25,\n",
    "        \"area_code\": \"353\",\n",
    "        \"birthday\": \"1997-05-18\",\n",
    "        \"date_format_pref\": \"%d-%m-%Y\",\n",
    "        \"email\": \"dan@trainai.com\",\n",
    "        \"first_name\": \"Dan\",\n",
    "        \"gender\": \"male\",\n",
    "        \"height_unit_pref\": \"cm\",\n",
    "        \"language\": \"english\",\n",
    "        \"last_name\": \"lenehan\",\n",
    "        \"password\": \"testing123\",\n",
    "        \"phone_number\": \"6307731531\",\n",
    "        \"premium\": True,\n",
    "        \"username\": \"danlen97\",\n",
    "        \"weight_unit_pref\": \"kg\",\n",
    "    },\n",
    ")\n",
    "res.text"
   ]
  },
  {
   "cell_type": "code",
   "execution_count": 10,
   "metadata": {},
   "outputs": [
    {
     "data": {
      "text/plain": [
       "'Login successful'"
      ]
     },
     "execution_count": 10,
     "metadata": {},
     "output_type": "execute_result"
    }
   ],
   "source": [
    "res = requests.post(\n",
    "    BASE_URL + \"login\",\n",
    "    json={\n",
    "        \"email\": \"dan@trainai.com\",\n",
    "        \"password\": \"testing123\",\n",
    "    },\n",
    ")\n",
    "session_id = res.cookies.get(\"session\")\n",
    "res.text"
   ]
  },
  {
   "cell_type": "code",
   "execution_count": 11,
   "metadata": {},
   "outputs": [
    {
     "data": {
      "text/plain": [
       "'User Authenticated'"
      ]
     },
     "execution_count": 11,
     "metadata": {},
     "output_type": "execute_result"
    }
   ],
   "source": [
    "res = requests.get(\n",
    "    BASE_URL + \"user_authenticated\", cookies={\"session\": session_id}\n",
    ")\n",
    "res.text"
   ]
  },
  {
   "cell_type": "code",
   "execution_count": 12,
   "metadata": {},
   "outputs": [
    {
     "data": {
      "text/plain": [
       "'Logout successful'"
      ]
     },
     "execution_count": 12,
     "metadata": {},
     "output_type": "execute_result"
    }
   ],
   "source": [
    "res = requests.post(BASE_URL + \"logout\", cookies={\"session\": session_id})\n",
    "res.text"
   ]
  },
  {
   "cell_type": "code",
   "execution_count": 13,
   "metadata": {},
   "outputs": [
    {
     "data": {
      "text/plain": [
       "'<!DOCTYPE HTML PUBLIC \"-//W3C//DTD HTML 3.2 Final//EN\">\\n<title>401 Unauthorized</title>\\n<h1>Unauthorized</h1>\\n<p>The server could not verify that you are authorized to access the URL requested. You either supplied the wrong credentials (e.g. a bad password), or your browser doesn&#x27;t understand how to supply the credentials required.</p>\\n'"
      ]
     },
     "execution_count": 13,
     "metadata": {},
     "output_type": "execute_result"
    }
   ],
   "source": [
    "res = requests.get(\n",
    "    BASE_URL + \"user_authenticated\", cookies={\"session\": session_id}\n",
    ")\n",
    "res.text"
   ]
  }
 ],
 "metadata": {
  "kernelspec": {
   "display_name": "Python 3 (ipykernel)",
   "language": "python",
   "name": "python3"
  },
  "language_info": {
   "codemirror_mode": {
    "name": "ipython",
    "version": 3
   },
   "file_extension": ".py",
   "mimetype": "text/x-python",
   "name": "python",
   "nbconvert_exporter": "python",
   "pygments_lexer": "ipython3",
   "version": "3.11.4"
  }
 },
 "nbformat": 4,
 "nbformat_minor": 2
}
